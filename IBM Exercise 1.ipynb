{
 "cells": [
  {
   "cell_type": "markdown",
   "id": "cffa93a3-06bd-4132-9583-940086208dc5",
   "metadata": {},
   "source": [
    "#**Data Science Tools and Ecosystem**"
   ]
  },
  {
   "cell_type": "markdown",
   "id": "765dd69a-e756-4d14-9c81-d1731d6db932",
   "metadata": {},
   "source": [
    "In this notebook, Data Science Tools and Ecosystems are summarized"
   ]
  },
  {
   "cell_type": "markdown",
   "id": "17c87523-a1fd-40d2-86bf-6f38fdf3ad22",
   "metadata": {},
   "source": [
    "Some of the popular languages that Data Scientists use are:\n",
    "1. Python\n",
    "2. Scala\n",
    "3. R\n",
    "4. Julia\n",
    "5. SQL\n",
    "6. PHP\n",
    "7. Javascript\n"
   ]
  },
  {
   "cell_type": "markdown",
   "id": "6ada266f-aa34-444f-81f8-7899af2cfcbc",
   "metadata": {},
   "source": [
    "Some of the commonly used libraries used by Data Scientists include:\n",
    "1. Numpy\n",
    "2. Pandas\n",
    "3. Matplotlib\n",
    "4. Seaborn\n",
    "5. Keras\n",
    "6. PyTorch\n",
    "7. Vegas\n",
    "8. TensorFlow\n"
   ]
  },
  {
   "cell_type": "markdown",
   "id": "ba43524c-8c38-4006-be6e-4e53a7554be0",
   "metadata": {},
   "source": [
    "|**Data Science Tools**|\n",
    "------------------------\n",
    "|Anaconda|\n",
    "|Jupyter Notebooks|\n",
    "|R Studio|\n",
    "|Spyder|"
   ]
  },
  {
   "cell_type": "markdown",
   "id": "8a9320e1-e9f5-4df0-a4d6-169e72aa6288",
   "metadata": {},
   "source": [
    "**Below are a few examples of evaluating arithmetic expressions in Python**"
   ]
  },
  {
   "cell_type": "code",
   "execution_count": 4,
   "id": "e79cafb1-daa8-4ddc-b1a2-1dfb1253d274",
   "metadata": {},
   "outputs": [
    {
     "data": {
      "text/plain": [
       "17"
      ]
     },
     "execution_count": 4,
     "metadata": {},
     "output_type": "execute_result"
    }
   ],
   "source": [
    "#This is a simple arithmetic expression to multiply and then add integers\n",
    "(3*4)+5"
   ]
  },
  {
   "cell_type": "code",
   "execution_count": 5,
   "id": "1571d802-8cc4-4f37-9e0d-dc3b51e9752c",
   "metadata": {},
   "outputs": [
    {
     "data": {
      "text/plain": [
       "4.0"
      ]
     },
     "execution_count": 5,
     "metadata": {},
     "output_type": "execute_result"
    }
   ],
   "source": [
    "#This will convert 240 minutes to hours by dividing by 60\n",
    "240/60"
   ]
  },
  {
   "cell_type": "markdown",
   "id": "06fcffe6-ee5b-4c6b-b266-a381cd4ab13b",
   "metadata": {},
   "source": [
    "**Objectives:**\n",
    "* Add Comments to code cells\n",
    "* Create markdown cells\n",
    "* Add ordered and unordered lists to markdown cells\n",
    "* Format content of markdown cells with heading styles"
   ]
  },
  {
   "cell_type": "markdown",
   "id": "9baf1e2e-40ac-4dc2-a369-0403e2d76070",
   "metadata": {},
   "source": [
    "**##Author**: Sangam Sanjay Bhamare\n"
   ]
  }
 ],
 "metadata": {
  "kernelspec": {
   "display_name": "Python 3 (ipykernel)",
   "language": "python",
   "name": "python3"
  },
  "language_info": {
   "codemirror_mode": {
    "name": "ipython",
    "version": 3
   },
   "file_extension": ".py",
   "mimetype": "text/x-python",
   "name": "python",
   "nbconvert_exporter": "python",
   "pygments_lexer": "ipython3",
   "version": "3.12.4"
  }
 },
 "nbformat": 4,
 "nbformat_minor": 5
}
